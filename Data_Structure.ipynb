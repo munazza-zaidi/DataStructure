{
  "nbformat": 4,
  "nbformat_minor": 0,
  "metadata": {
    "colab": {
      "provenance": []
    },
    "kernelspec": {
      "name": "python3",
      "display_name": "Python 3"
    },
    "language_info": {
      "name": "python"
    }
  },
  "cells": [
    {
      "cell_type": "markdown",
      "source": [
        "# Python : Data Structure\n"
      ],
      "metadata": {
        "id": "NyGkcBbnVnOD"
      }
    },
    {
      "cell_type": "markdown",
      "source": [
        " **1.  What are data structures, and why are they important?**\n",
        "\n",
        "  - A data structure is a way of organizing and storing data in a computer so that it can be accessed and used efficiently.\n",
        "\n",
        "\n",
        "  **Advantage of DS:**\n",
        "\n",
        "\n",
        "   *   Data Structures allow effecient storage and retrival of data\n",
        "   *   It is easy to maintain the program\n",
        "\n",
        "   *   Well designed data structures are easy to understand\n",
        "\n",
        "\n",
        "\n",
        "\n",
        "\n",
        "\n",
        "\n",
        "\n"
      ],
      "metadata": {
        "id": "8lFA5Rd2V4EX"
      }
    },
    {
      "cell_type": "markdown",
      "source": [
        "**2- Explain the difference between mutable and immutable data types with examples**\n",
        "\n",
        "- Mutable data types allows modification after creation while immutable data types cant be changed.\n",
        "\n",
        "Examples of Mutable Data Types: List, Dictionaries, and Sets.\n",
        "\n",
        "Examples of Immutable Data Types: Tuple, Strings.\n",
        "\n"
      ],
      "metadata": {
        "id": "r9DullgsMLL9"
      }
    },
    {
      "cell_type": "markdown",
      "source": [
        "**3. What are the main differences between lists and tuples in Python3**\n",
        "Lists are mutable, meaning their elements can be changed after creation, while tuples are immutable, meaning their elements cannot be modified. Tuples are typically used in situations where data should remain constant, such as storing client phone numbers."
      ],
      "metadata": {
        "id": "zOheKHn5NAu1"
      }
    },
    {
      "cell_type": "markdown",
      "source": [
        "**4. Describe how dictionaries store data?**\n",
        "Dictionaries stores data in a key-value pair. Each key is unique, and it maps to a specific value.\n",
        "\n",
        "Example:\n",
        "\n",
        "user_address = {\"munazza\" : \"Barabanki\", \"Ashab\" : \"Lucknow\"}\n",
        "\n",
        "print(user_address[\"munazza\"])\n",
        "\n",
        "Output: Barabanki"
      ],
      "metadata": {
        "id": "gvAfewovNjC5"
      }
    },
    {
      "cell_type": "markdown",
      "source": [
        "**5. Why might you use a set instead of a list in Python?**\n",
        "  \n",
        "  Sets store unique elements and prevent repetition of the same data. So, if I need to store only unique items, I will use a set instead of a list."
      ],
      "metadata": {
        "id": "jNmWGj4_R08H"
      }
    },
    {
      "cell_type": "markdown",
      "source": [
        "**6. What is a string in Python, and how is it different from a list?**\n",
        "\n",
        "   A string in Python is a sequence of characters enclosed in single ('), double (\"), or triple (''' or \"\"\") quotes. It is used to store and manipulate text.\n",
        "\n",
        "Differences between a String and a List:\n",
        "\n",
        " - A string is immutable while the list is mutable.\n",
        "\n",
        " - A string\tStores only characters\twhile the list Can store multiple data types (int, float, string, etc.)\n"
      ],
      "metadata": {
        "id": "DYyODaIaSiJj"
      }
    },
    {
      "cell_type": "markdown",
      "source": [
        "**7. How do tuples ensure data integrity in Python?**\n",
        "\n",
        " - Tuples keep data safe in Python because they **cannot be changed** after they are created. This prevents accidental changes, making them great for storing important information that should stay the same."
      ],
      "metadata": {
        "id": "7jSwn2XxTssa"
      }
    },
    {
      "cell_type": "markdown",
      "source": [
        "**8. What is a hash table, and how does it relate to dictionaries in Python?**\n",
        "  \n",
        "  A hash table is a data structure that stores key-value pairs and allows quick data retrieval. It works by using a hash function to convert keys into unique numerical values (called hashes) that determine where the values are stored in memory.\n",
        "\n",
        "  **How it relates to dictionries?**\n",
        "   \n",
        "   Python dictionaries are built using hash tables. When you store a key-value pair in a dictionary, Python:\n",
        "\n",
        "      - Hashes the key (converts it into a unique number).\n",
        "\n",
        "      - Uses the hash to find a location in memory.\n",
        "\n",
        "      - Stores the value at that location.\n",
        "\n",
        "\n",
        "\n"
      ],
      "metadata": {
        "id": "yxf_3OG_UIsb"
      }
    },
    {
      "cell_type": "markdown",
      "source": [
        "**9. Can lists contain different data types in Python?**\n",
        "\n",
        "   Yes, List can contain different data types."
      ],
      "metadata": {
        "id": "TS2Epyc-XXdz"
      }
    },
    {
      "cell_type": "markdown",
      "source": [
        "**10.  Explain why strings are immutable in Python?**\n",
        "\n",
        "   -  If strings were mutable, their hash value could change, breaking the integrity of dictionaries and sets. Immutable strings guarantee that their hash value stays the same, making them reliable as dictionary keys and set elements."
      ],
      "metadata": {
        "id": "e6RZIL3XbNBc"
      }
    },
    {
      "cell_type": "markdown",
      "source": [
        "**11. What advantages do dictionaries offer over lists for certain tasks?**\n",
        "\n",
        "1. Key Uniqueness\n",
        "\n",
        "   - In a dictionary, keys are unique; if you try to add a duplicate key, it will simply update the existing value.\n",
        "\n",
        "   - Lists allow duplicate values, which can be problematic when you want to ensure that each piece of data is unique.\n",
        "\n",
        "2. Usefull for Mapping\n",
        "\n",
        "   - Dictionaries are often used for tasks like counting occurrences, grouping data, or mapping values (e.g., mapping student names to their grades).\n",
        "\n",
        "   - Lists do not have a built-in way to associate keys with values, so these tasks are harder to implement.\n",
        "\n",
        "3. Key-Value Pair Storage\n",
        "\n",
        "   - Dictionaries store data in key-value pairs, which makes it easy to organize and retrieve related data.\n",
        "\n",
        "   - Lists, on the other hand, are indexed by integers, which makes them less intuitive for associating data with specific keys.\n",
        "\n",
        "\n"
      ],
      "metadata": {
        "id": "OvS0NbzdbwAk"
      }
    },
    {
      "cell_type": "markdown",
      "source": [
        "12. Describe a scenario where using a tuple would be preferable over a list?\n",
        "\n",
        "    - A tuple would be preferable over a list in scenarios where you need to store immutable data that should not be modified after creation.\n",
        "\n",
        "    Example:\n",
        "\n",
        "    - If I have to store the employee records like their id's department salary and address etc."
      ],
      "metadata": {
        "id": "7MQW_xAZcl-h"
      }
    },
    {
      "cell_type": "markdown",
      "source": [
        "**13.  How do sets handle duplicate values in Python?**\n",
        "\n",
        "- In Python, sets automatically remove duplicate values when you try to add them. A set is an unordered collection of unique items, so any duplicate elements are discarded.\n",
        "   \n",
        "Example:\n",
        "\n",
        " - fruits = {\"apple\", \"banana\", \"apple\", \"orange\", \"banana\"}\n",
        "\n",
        " -  print(fruits)  # Output: {'apple', 'banana', 'orange'}"
      ],
      "metadata": {
        "id": "lccRDT7OdOL1"
      }
    },
    {
      "cell_type": "markdown",
      "source": [
        "**14. How does the “in” keyword work differently for lists and dictionaries?**\n",
        "\n",
        "- The in keyword works differently for lists and dictionaries:\n",
        "- When you use the in keyword with a **list**, it checks if the value you are looking for exists in the list.\n",
        "- **List example**\n",
        "\n",
        "   - fruits = [\"apple\", \"banana\", \"orange\"]\n",
        "\n",
        "   - Check if \"apple\" is in the list\n",
        "   - print(\"apple\" in fruits)  # Output: True\n",
        "\n",
        "- **Dictonary example**\n",
        "  - When you use the in keyword with a **dictionary**, it checks if the **key** exists in the dictionary, not the **value**.\n",
        "  - student = {\"name\": \"Alice\", \"age\": 22, \"grade\": \"A\"}\n",
        "\n",
        "  - Check if the key \"name\" exists in the dictionary\n",
        "  - print(\"name\" in student)  # Output: True"
      ],
      "metadata": {
        "id": "jWsEanMFeL-7"
      }
    },
    {
      "cell_type": "markdown",
      "source": [
        "**15. Can you modify the elements of a tuple? Explain why or why not?**\n",
        "\n",
        "- No, you cannot modify the elements of a tuple in Python. This is because tuples are immutable, meaning their contents cannot be changed after they are created.\n",
        "\n"
      ],
      "metadata": {
        "id": "OpI5PPZEfwlD"
      }
    },
    {
      "cell_type": "markdown",
      "source": [
        "**16.  What is a nested dictionary, and give an example of its use case?**\n",
        "\n",
        "- A nested dictionary is just a dictionary inside another dictionary. In simpler terms, it’s like having a list of things, and some of those things are themselves lists or dictionaries.\n",
        "\n",
        "- Example:\n",
        "  \n",
        "```\n",
        "- students = {\n",
        "    \"Munazza\": {\n",
        "        \"age\": 28,\n",
        "        \"subjects\": {\"Math\": \"A Grade\", \"English\": \"B+Grade\"}\n",
        "    },\n",
        "    \"Bob\": {\n",
        "        \"age\": 22,\n",
        "        \"subjects\": {\"Math\": \"B Grade\", \"English\": \"A Grade\"}\n",
        "    }\n",
        "}\n",
        "print(students[\"Alice\"][\"age\"])  # Output: 20\n",
        "\n",
        "```\n",
        "\n"
      ],
      "metadata": {
        "id": "vrKEivq1f9Ug"
      }
    },
    {
      "cell_type": "markdown",
      "source": [
        "**17. Describe the time complexity of accessing elements in a dictionary?**\n",
        "\n",
        "- The time complexity of accessing elements in a dictionary in Python is O(1) on average. This means that dictionary lookups (accessing a value by its key) take constant time, regardless of the size of the dictionary.\n",
        "\n",
        "\n",
        "Example:\n",
        "\n",
        "\n",
        "\n",
        "```\n",
        "person = {\"name\": \"munazza\", \"age\": 25}\n",
        "\n",
        "# Accessing a value by its key\n",
        "print(person[\"name\"])  # Output: munazza\n",
        "```\n",
        "\n",
        "\n",
        "\n",
        "In this example, accessing person[\"name\"] happens in constant time, O(1), because Python directly retrieves the value using the hash of the key \"name\"."
      ],
      "metadata": {
        "id": "zg3MBduChxou"
      }
    },
    {
      "cell_type": "markdown",
      "source": [
        "**18. In what situations are lists preferred over dictionaries?**\n",
        "\n",
        "- If you only need to store a simple collection of items (e.g., integers, strings) without any associated keys for each item, lists are more appropriate.\n",
        "\n",
        "- In Python, lists are preferred over dictionaries in situations where you need to store ordered collections of items and access elements by their position (index) rather than by a key.\n",
        "- For smaller datasets, where you don't need the extra functionality of key-value pairing, lists are simpler and more straightforward to use.\n",
        "- Lists have built-in methods like sort(), append(), and extend(), making it easy to perform operations like sorting or slicing based on the order of elements."
      ],
      "metadata": {
        "id": "dOM1Wb2TiblV"
      }
    },
    {
      "cell_type": "markdown",
      "source": [
        "**19 Why are dictionaries considered unordered, and how does that affect data retrieval?**\n",
        "\n",
        "- Dictionaries in Python are considered unordered because they store data using a method called hashing, which means the order in which items are added doesn't matter. When you add a key-value pair, Python doesn't store them in the order you added them. Instead, it stores them in a way that makes it faster to look up values by key.\n",
        "\n",
        " **How does it affect retrieval?**\n",
        "\n",
        "- You can quickly find a value by using its key , but you can’t rely on getting the values in the order you inserted them."
      ],
      "metadata": {
        "id": "5NkFL12jkLhz"
      }
    },
    {
      "cell_type": "markdown",
      "source": [
        "20.  **Explain the difference between a list and a dictionary in terms of data retrieval.**\n",
        "\n",
        "- Data Retrival in List\n",
        " - Lists use indices to access their elements. Each element in a list has a specific position (or index), and you retrieve the element using that index.\n",
        "\n",
        "\n",
        "```\n",
        "fruits = [\"apple\", \"banana\", \"orange\"]\n",
        "\n",
        "# Accessing data by index\n",
        "print(fruits[1])  # Output: banana\n",
        "```\n",
        "\n",
        "\n",
        "- Data Retrival in Dictionary\n",
        "  - Dictionaries use keys to access their values. Each value in a dictionary is paired with a unique key, and you retrieve the value by specifying its key.\n",
        "\n",
        "\n",
        "\n",
        "```\n",
        "student = {\"name\": \"Munazza\", \"age\": 22, \"grade\": \"A\"}\n",
        "\n",
        "# Accessing data by key\n",
        "print(student[\"age\"])  # Output: 22\n",
        "```\n",
        "\n"
      ],
      "metadata": {
        "id": "FNiuiIJJlF6c"
      }
    },
    {
      "cell_type": "markdown",
      "source": [
        "# Practical Questions"
      ],
      "metadata": {
        "id": "AwIyCBual0uJ"
      }
    },
    {
      "cell_type": "code",
      "source": [
        "# 1. Write a code to create a string with your name and print it.\n",
        "my_name = \"Munazza Zaidi\"\n",
        "print(\"My name is \" + my_name)\n",
        "#output : My name is Munazza Zaidi"
      ],
      "metadata": {
        "id": "E5b8xvwaibXT"
      },
      "execution_count": null,
      "outputs": []
    },
    {
      "cell_type": "code",
      "source": [
        "# 2. Write a code to find the length of the string \"Hello World\".\n",
        "given_string = \"Hello World\"\n",
        "print(given_string)\n",
        "#output : Hello World"
      ],
      "metadata": {
        "id": "NEdsqELPhxOQ"
      },
      "execution_count": null,
      "outputs": []
    },
    {
      "cell_type": "code",
      "source": [
        "#3. Write a code to slice the first 3 characters from the string \"Python Programming\".\n",
        "provided_string=\"Python Programming\"\n",
        "sliced_string=provided_string[:3]\n",
        "print(sliced_string)\n",
        "#output : Pyt"
      ],
      "metadata": {
        "id": "hVR3-t7xR0p3"
      },
      "execution_count": null,
      "outputs": []
    },
    {
      "cell_type": "code",
      "source": [
        "# 4.  Write a code to convert the string \"hello\" to uppercase.\n",
        "given_string = \"hello\"\n",
        "uppercase_string = given_string.upper();\n",
        "print(\"The Uppercase of hello is \" + uppercase_string)\n",
        "#output : The Uppercase of hello is HELLO"
      ],
      "metadata": {
        "id": "BI2Vtn0mNAT4"
      },
      "execution_count": null,
      "outputs": []
    },
    {
      "cell_type": "code",
      "source": [
        "# 5.  Write a code to replace the word \"apple\" with \"orange\" in the string \"I like apple\"\n",
        "given_string= \"I like apple\"\n",
        "new_string = given_string.replace(\"apple\", \"orange\")\n",
        "print(new_string)\n",
        "# output. : \"I Like orange\""
      ],
      "metadata": {
        "id": "tRsVU8sMVnny"
      },
      "execution_count": null,
      "outputs": []
    },
    {
      "cell_type": "code",
      "source": [
        "# 6. Write a code to create a list with numbers 1 to 5 and print it\n",
        "numbers =[1, 2, 3, 4, 5]\n",
        "for num in numbers:\n",
        "  print(num)\n",
        "\n",
        "#output:\n",
        "1\n",
        "2\n",
        "3\n",
        "4\n",
        "5"
      ],
      "metadata": {
        "id": "RtoJiZvlocno"
      },
      "execution_count": null,
      "outputs": []
    },
    {
      "cell_type": "code",
      "source": [
        "# 7. Write a code to append the number 10 to the list [1, 2, 3, 4].\n",
        "given_list= [1, 2, 3, 4]\n",
        "given_list.append(10)\n",
        "print(given_list)\n",
        "#output :  [1,2,3,4,10]"
      ],
      "metadata": {
        "id": "7siyT7mEo0WY"
      },
      "execution_count": null,
      "outputs": []
    },
    {
      "cell_type": "code",
      "source": [
        "# 8. Write a code to remove the number 3 from the list [1, 2, 3, 4, 5].\n",
        "given_list = [1, 2, 3, 4, 5]\n",
        "given_list.remove(3)\n",
        "print(given_list)\n",
        "#output : [1, 2, 4, 5]"
      ],
      "metadata": {
        "id": "7DlgN7Etpp4Q"
      },
      "execution_count": null,
      "outputs": []
    },
    {
      "cell_type": "code",
      "source": [
        "# 9. Write a code to access the second element in the list ['a', 'b', 'c', 'd']\n",
        "given_list= ['a', 'b', 'c', 'd']\n",
        "second_element = given_list[1]\n",
        "print(second_element)\n",
        "#output : b"
      ],
      "metadata": {
        "id": "du-wDyT2qBtS"
      },
      "execution_count": null,
      "outputs": []
    },
    {
      "cell_type": "code",
      "source": [
        "# 10.  Write a code to reverse the list [10, 20, 30, 40, 50].\n",
        "given_list = [10, 20, 30, 40, 50]\n",
        "given_list.reverse()\n",
        "print(given_list)\n",
        "# output : [50, 40, 30, 20, 10]"
      ],
      "metadata": {
        "id": "nULeneW1rQct"
      },
      "execution_count": null,
      "outputs": []
    },
    {
      "cell_type": "code",
      "source": [
        "#11. Write a code to create a tuple with the elements 100, 200, 300 and print it.\n",
        "my_tuple =(100, 200, 300)\n",
        "my_tuple =(100, 200, 300)\n",
        "for item in my_tuple:\n",
        "    print(item)\n",
        "\n",
        "#output :\n",
        "100\n",
        "200\n",
        "300"
      ],
      "metadata": {
        "id": "06Bwp2r43WtE"
      },
      "execution_count": null,
      "outputs": []
    },
    {
      "cell_type": "code",
      "source": [
        "#12. Write a code to access the second-to-last element of the tuple ('red', 'green', 'blue', 'yellow').\n",
        "given_tuple = ('red', 'green', 'blue', 'yellow')\n",
        "print(given_tuple[-2])\n",
        "#output : blue"
      ],
      "metadata": {
        "id": "B3PWHWz930SM"
      },
      "execution_count": null,
      "outputs": []
    },
    {
      "cell_type": "code",
      "source": [
        "#13. Write a code to find the minimum number in the tuple (10, 20, 5, 15).\n",
        "given_tuple= (10, 20, 5, 15)\n",
        "minimum = min(given_tuple)\n",
        "print(minimum)\n",
        "#output : 5"
      ],
      "metadata": {
        "id": "6A4FTkaH6Mj0"
      },
      "execution_count": null,
      "outputs": []
    },
    {
      "cell_type": "code",
      "source": [
        "#14. Write a code to find the index of the element \"cat\" in the tuple ('dog', 'cat', 'rabbit')\n",
        "given_tuple = ('dog', 'cat', 'rabbit')\n",
        "find_index = given_tuple.index(\"cat\")\n",
        "print(find_index)\n",
        "#output : 1"
      ],
      "metadata": {
        "id": "Mfpfmx426eFr"
      },
      "execution_count": null,
      "outputs": []
    },
    {
      "cell_type": "code",
      "source": [
        "#15. Write a code to create a tuple containing three different fruits and check if \"kiwi\" is in it.\n",
        "fruits = (\"Banana\", \"Orange\" , \"Grapes\")\n",
        "if \"kiwi\" in fruits:\n",
        "  print (\"Kiwi is available in \" + str(fruits))\n",
        "else:\n",
        "  print(\"Kiwi is not available in \" + str(fruits))\n",
        "#output : Kiwi is available not in ('Banana', 'Orange', 'Grapes')"
      ],
      "metadata": {
        "id": "rdain9VA6_Xr"
      },
      "execution_count": null,
      "outputs": []
    },
    {
      "cell_type": "code",
      "source": [
        "#16.  Write a code to create a set with the elements 'a', 'b', 'c' and print it.\n",
        "given_set = set{\"a\", \"b\", \"c\"}\n",
        "for item in given_set:\n",
        "  print (item)\n",
        "#output :\n",
        "b\n",
        "a\n",
        "c"
      ],
      "metadata": {
        "id": "b14ONh-H9rAM"
      },
      "execution_count": null,
      "outputs": []
    },
    {
      "cell_type": "code",
      "source": [
        "#17.  Write a code to clear all elements from the set {1, 2, 3, 4, 5}.\n",
        "given_set = {1, 2, 3, 4, 5}\n",
        "given_set.clear()\n",
        "print(given_set)\n",
        "#output : set()\n"
      ],
      "metadata": {
        "id": "x6e5ZgZh_ykN"
      },
      "execution_count": null,
      "outputs": []
    },
    {
      "cell_type": "code",
      "source": [
        "#18: Write a code to remove the element 4 from the set {1, 2, 3, 4}.\n",
        "given_set = {1, 2, 3, 4}\n",
        "given_set.remove(4)\n",
        "print(given_set)\n",
        "#output : {1, 2, 3}"
      ],
      "metadata": {
        "id": "YDmRB3K_AKP9"
      },
      "execution_count": null,
      "outputs": []
    },
    {
      "cell_type": "code",
      "source": [
        "#19:  Write a code to find the union of two sets {1, 2, 3} and {3, 4, 5}.\n",
        "setA = {1, 2, 3}\n",
        "setB = {3, 4, 5}\n",
        "new_set = (setA | setB)\n",
        "print(new_set)\n",
        "#output : {1, 2, 3, 4, 5}"
      ],
      "metadata": {
        "id": "PXxHy1nEAaqx"
      },
      "execution_count": null,
      "outputs": []
    },
    {
      "cell_type": "code",
      "source": [
        "#20: Write a code to find the intersection of two sets {1, 2, 3} and {2, 3, 4}.\n",
        "setA = {1, 2, 3}\n",
        "setB = {2, 3, 4}\n",
        "new_set = (setA & setB)\n",
        "print(new_set)\n",
        "#output : {2, 3}"
      ],
      "metadata": {
        "id": "0_RMgpz2BHaz"
      },
      "execution_count": null,
      "outputs": []
    },
    {
      "cell_type": "code",
      "source": [
        "#21. Write a code to create a dictionary with the keys \"name\", \"age\", and \"city\", and print it.\n",
        "given_dict = {\"name\" : \"Munazza\", \"age\": \"28\", \"City\": \"Lucknow\" }\n",
        "print(given_dict)\n",
        "#output: {'name': 'Munazza', 'age': '28', 'City': 'Lucknow'}"
      ],
      "metadata": {
        "id": "ob4C3hgaBlSb"
      },
      "execution_count": null,
      "outputs": []
    },
    {
      "cell_type": "code",
      "source": [
        "#22. Write a code to add a new key-value pair \"country\": \"USA\" to the dictionary {'name': 'John', 'age': 25}.\n",
        "given_dict = {'name': 'John', 'age': 25}\n",
        "given_dict[\"country\"] = \"USA\"\n",
        "print(given_dict)\n",
        "#output : {'name': 'John', 'age': 25, 'country': 'USA'}\n"
      ],
      "metadata": {
        "id": "I4_nibVkCVHi"
      },
      "execution_count": null,
      "outputs": []
    },
    {
      "cell_type": "code",
      "source": [
        "#23. Write a code to access the value associated with the key \"name\" in the dictionary {'name': 'Alice', 'age': 30}.\n",
        "given_dict = {'name': 'Alice', 'age': 30}\n",
        "val = given_dict.get(\"name\")\n",
        "print(val)\n",
        "#Output : Alice"
      ],
      "metadata": {
        "id": "Pc0ADUS2C3rJ"
      },
      "execution_count": null,
      "outputs": []
    },
    {
      "cell_type": "code",
      "source": [
        "#24. Write a code to remove the key \"age\" from the dictionary {'name': 'Bob', 'age': 22, 'city': 'New York'}.\n",
        "given_dict= {'name': 'Bob', 'age': 22, 'city': 'New York'}\n",
        "new_dict= given_dict.pop(\"age\")\n",
        "print(given_dict)\n",
        "#output : {'name': 'Bob', 'city': 'New York'}"
      ],
      "metadata": {
        "id": "e_8tEVxpDfRh"
      },
      "execution_count": null,
      "outputs": []
    },
    {
      "cell_type": "code",
      "source": [
        "#25.  Write a code to check if the key \"city\" exists in the dictionary {'name': 'Alice', 'city': 'Paris'}.\n",
        "given_dict = {'name': 'Alice', 'city': 'Paris'}\n",
        "if \"city\" in given_dict:\n",
        "    print(\"city is available in \" + str(given_dict))\n",
        "else:\n",
        "    print(\"City is not available\")\n",
        "\n",
        "#output : city is available in {'name': 'Alice', 'city': 'Paris'}"
      ],
      "metadata": {
        "id": "u0MmiKH7EwvQ"
      },
      "execution_count": null,
      "outputs": []
    },
    {
      "cell_type": "code",
      "source": [
        "#26. Write a code to create a list, a tuple, and a dictionary, and print them all.\n",
        "\n",
        "my_list = [1, 2, 3, 4, 5]\n",
        "my_tuple = ('apple', 'banana', 'grapes')\n",
        "my_dict = {'name': 'Munazza', 'age': 30, 'city': 'London'}\n",
        "\n",
        "# Print the list, tuple, and dictionary\n",
        "print(\"List is :\", my_list)\n",
        "print(\"Tuple is :\", my_tuple)\n",
        "print(\"Dictionary is :\", my_dict)"
      ],
      "metadata": {
        "id": "uYshySuBF9DW"
      },
      "execution_count": null,
      "outputs": []
    },
    {
      "cell_type": "code",
      "source": [
        "#27. Write a code to create a list of 5 random numbers between 1 and 100, sort it in ascending order, and print the result\n",
        "my_list =[10, 5, 99, 85, 32]\n",
        "sorted_list = sorted(my_list)\n",
        "print(sorted_list)\n",
        "#output : [5, 10, 32, 85, 99]"
      ],
      "metadata": {
        "id": "uxD7cF5vGh_v"
      },
      "execution_count": null,
      "outputs": []
    },
    {
      "cell_type": "code",
      "source": [
        "#28.  Write a code to create a list with strings and print the element at the third index.\n",
        "my_list=[\"India\", \"South Africa\", \"England\", \"New zealand\", \"Australia\" ]\n",
        "print(my_list[3])\n",
        "#output : New zealand"
      ],
      "metadata": {
        "id": "_P9UjLwbHUcj"
      },
      "execution_count": null,
      "outputs": []
    },
    {
      "cell_type": "code",
      "source": [
        "#29. Write a code to combine two dictionaries into one and print the result\n",
        "dictA={\"name\": \"Munazza\", \"Age\":\"28\"}\n",
        "dictB={\"name\":\"Ashab\", \"Age\" : \"25\"}\n",
        "dictA.update(dictB)\n",
        "print(dictA)\n",
        "#Output : {'name': 'Ashab', 'Age': '25'}\n"
      ],
      "metadata": {
        "id": "dLynIhu-Jdwv"
      },
      "execution_count": null,
      "outputs": []
    },
    {
      "cell_type": "code",
      "source": [
        "30. Write a code to convert a list of strings into a set.\n",
        "given_list=[\"India\", \"South Africa\", \"England\", \"New zealand\", \"Australia\", \"India\", \"England\" ]\n",
        "my_set=set(given_list)\n",
        "print(my_set)\n",
        "#output : {'South Africa', 'Australia', 'India', 'New zealand', 'England'}"
      ],
      "metadata": {
        "id": "Uh94Gd9MJia0"
      },
      "execution_count": null,
      "outputs": []
    }
  ]
}